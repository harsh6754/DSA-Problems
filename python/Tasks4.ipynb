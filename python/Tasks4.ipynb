{
 "cells": [
  {
   "cell_type": "code",
   "execution_count": 1,
   "metadata": {},
   "outputs": [
    {
     "data": {
      "application/vnd.jupyter.widget-view+json": {
       "model_id": "3bd8650ba3544d39966d8406480f6819",
       "version_major": 2,
       "version_minor": 0
      },
      "text/plain": [
       "interactive(children=(FloatSlider(value=1.0, description='Slope:', max=5.0, min=-5.0), FloatSlider(value=0.0, …"
      ]
     },
     "metadata": {},
     "output_type": "display_data"
    },
    {
     "data": {
      "text/plain": [
       "<function __main__.plot_line(slope, intercept)>"
      ]
     },
     "execution_count": 1,
     "metadata": {},
     "output_type": "execute_result"
    }
   ],
   "source": [
    "import numpy as np\n",
    "import matplotlib.pyplot as plt\n",
    "from ipywidgets import interact, FloatSlider\n",
    "\n",
    "def plot_line(slope, intercept):\n",
    "    x = np.linspace(-10, 10, 100)\n",
    "    y = slope * x + intercept\n",
    "    plt.figure(figsize=(8, 6))\n",
    "    plt.plot(x, y, label=f'y = {slope}x + {intercept}', color='blue')\n",
    "    plt.axhline(0, color='gray', linestyle='--', linewidth=0.7)\n",
    "    plt.axvline(0, color='gray', linestyle='--', linewidth=0.7)\n",
    "    plt.title(\"Interactive Line Plot\")\n",
    "    plt.xlabel(\"X\")\n",
    "    plt.ylabel(\"Y\")\n",
    "    plt.legend()\n",
    "    plt.grid(True)\n",
    "    plt.show()\n",
    "\n",
    "slope_slider = FloatSlider(min=-5, max=5, step=0.1, value=1, description=\"Slope:\")\n",
    "intercept_slider = FloatSlider(min=-10, max=10, step=0.5, value=0, description=\"Intercept:\")\n",
    "\n",
    "interact(plot_line, slope=slope_slider, intercept=intercept_slider)\n"
   ]
  }
 ],
 "metadata": {
  "kernelspec": {
   "display_name": "Python 3",
   "language": "python",
   "name": "python3"
  },
  "language_info": {
   "codemirror_mode": {
    "name": "ipython",
    "version": 3
   },
   "file_extension": ".py",
   "mimetype": "text/x-python",
   "name": "python",
   "nbconvert_exporter": "python",
   "pygments_lexer": "ipython3",
   "version": "3.12.2"
  }
 },
 "nbformat": 4,
 "nbformat_minor": 2
}
