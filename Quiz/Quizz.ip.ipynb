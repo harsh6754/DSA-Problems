{
 "cells": [
  {
   "cell_type": "code",
   "execution_count": 2,
   "metadata": {},
   "outputs": [
    {
     "name": "stdout",
     "output_type": "stream",
     "text": [
      "True\n"
     ]
    }
   ],
   "source": [
    "class A:\n",
    "    def __init__(self,x,y):\n",
    "        self.x = x\n",
    "        self.y = y\n",
    "    def __str__(self):\n",
    "        return 1\n",
    "    def __eq__(self,other):\n",
    "        return self.x * self.y == other.x * other.y\n",
    "obj1 = A(5,2)\n",
    "obj2 = A(2,5)\n",
    "print(obj1 == obj2)"
   ]
  },
  {
   "cell_type": "code",
   "execution_count": 3,
   "metadata": {},
   "outputs": [
    {
     "name": "stdout",
     "output_type": "stream",
     "text": [
      " Demo's check \n",
      "Dervid check\n"
     ]
    }
   ],
   "source": [
    "class Demo:\n",
    "    def check(self):  \n",
    "        return \" Demo's check \"\n",
    "    def display(self):\n",
    "        print(self.check())\n",
    "class Demo_Derived(Demo):\n",
    "    def check(self):\n",
    "        return \"Dervid check\"\n",
    "Demo().display()\n",
    "Demo_Derived().display()"
   ]
  },
  {
   "cell_type": "code",
   "execution_count": 4,
   "metadata": {},
   "outputs": [
    {
     "name": "stdout",
     "output_type": "stream",
     "text": [
      "B\n"
     ]
    }
   ],
   "source": [
    "class A:\n",
    "    def one(self):\n",
    "        return self.two()\n",
    "    def two(self):\n",
    "        return 'A'\n",
    "class B(A):\n",
    "    def two(self):\n",
    "        return \"B\"\n",
    "obj=B()\n",
    "print(obj.two())"
   ]
  },
  {
   "cell_type": "code",
   "execution_count": 6,
   "metadata": {},
   "outputs": [
    {
     "name": "stdout",
     "output_type": "stream",
     "text": [
      "1 7\n"
     ]
    }
   ],
   "source": [
    "class A:\n",
    "    def __init__(self):\n",
    "        self.__i = 1\n",
    "        self.j = 5\n",
    "    def display(self):\n",
    "        print(self.__i, self.j)\n",
    "class B(A):\n",
    "    def __init__(self):\n",
    "        super().__init__()\n",
    "        self.__i = 2\n",
    "        self.j = 7\n",
    "c = B()\n",
    "c.display()\n"
   ]
  },
  {
   "cell_type": "code",
   "execution_count": 7,
   "metadata": {},
   "outputs": [
    {
     "name": "stdout",
     "output_type": "stream",
     "text": [
      "30\n"
     ]
    }
   ],
   "source": [
    "class A:\n",
    "    def __init__(self):\n",
    "        self.multiply(15)\n",
    "        print(self.i)\n",
    "    def multiply(self,i):\n",
    "        self.i = 4 * i\n",
    "    \n",
    "class B(A):\n",
    "    def __init__(self):\n",
    "        super().__init__()\n",
    "    def multiply(self,i):\n",
    "        self.i = 2 * i\n",
    "obj = B()"
   ]
  },
  {
   "cell_type": "code",
   "execution_count": 8,
   "metadata": {},
   "outputs": [
    {
     "name": "stdout",
     "output_type": "stream",
     "text": [
      "1 1 1\n"
     ]
    }
   ],
   "source": [
    "class A:\n",
    "    def __str__(self):\n",
    "        return '1'\n",
    "class B(A):\n",
    "    def __init__(self):\n",
    "        super().__init__()\n",
    "class C(B):\n",
    "    def __init__(self):\n",
    "        super().__init__()\n",
    "def main():\n",
    "    obj1 = B()\n",
    "    obj2 = A()\n",
    "    obj3 =C()\n",
    "    print(obj1,obj2,obj3)\n",
    "main()"
   ]
  },
  {
   "cell_type": "code",
   "execution_count": 10,
   "metadata": {},
   "outputs": [
    {
     "name": "stdout",
     "output_type": "stream",
     "text": [
      "True\n"
     ]
    }
   ],
   "source": [
    "class A:\n",
    "    pass\n",
    "class B:\n",
    "    pass\n",
    "obj=B()\n",
    "print(isinstance(obj,B))"
   ]
  },
  {
   "cell_type": "code",
   "execution_count": null,
   "metadata": {},
   "outputs": [],
   "source": [
    "class Demo:\n",
    "    def __init__(self):\n",
    "        self.x = 1\n",
    "    def change(self):\n",
    "        self.x = 10\n",
    "class Demo_derived(Demo):\n",
    "    def change(self):\n",
    "        self.x=self.x+1"
   ]
  }
 ],
 "metadata": {
  "kernelspec": {
   "display_name": "Python 3",
   "language": "python",
   "name": "python3"
  },
  "language_info": {
   "codemirror_mode": {
    "name": "ipython",
    "version": 3
   },
   "file_extension": ".py",
   "mimetype": "text/x-python",
   "name": "python",
   "nbconvert_exporter": "python",
   "pygments_lexer": "ipython3",
   "version": "3.12.2"
  }
 },
 "nbformat": 4,
 "nbformat_minor": 2
}
