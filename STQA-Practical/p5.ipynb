{
 "cells": [
  {
   "cell_type": "code",
   "execution_count": 4,
   "metadata": {},
   "outputs": [
    {
     "name": "stdout",
     "output_type": "stream",
     "text": [
      "Date 1: (26, 6, 2023)\n",
      "Date 2: (26, 6, 2024)\n",
      "Difference: 366 days\n",
      "Testing Leap year date ((29, 2, 2024)): True\n",
      "Testing Non-leap year date ((29, 2, 2023)): False\n",
      "Testing Invalid day in April ((31, 4, 2023)): False\n",
      "Testing Invalid month ((15, 13, 2023)): False\n",
      "Testing Invalid day zero ((0, 5, 2023)): False\n",
      "Testing Invalid negative year ((15, 5, -1)): False\n"
     ]
    }
   ],
   "source": [
    "from datetime import date\n",
    "\n",
    "def is_leap_year(year):\n",
    "    if (year % 4 == 0 and year % 100 != 0) or year % 400 == 0:\n",
    "        return True\n",
    "    else:\n",
    "        return False\n",
    "\n",
    "def is_valid_date(day, month, year):\n",
    "    if year < 1:\n",
    "        return False\n",
    "    if month < 1 or month > 12:\n",
    "        return False\n",
    "    if day < 1:\n",
    "        return False\n",
    "   \n",
    "    if month in {1, 3, 5, 7, 8, 10, 12}:\n",
    "        if day > 31:\n",
    "            return False\n",
    "    elif month in {4, 6, 9, 11}:\n",
    "        if day > 30:\n",
    "            return False\n",
    "    elif month == 2:\n",
    "        if is_leap_year(year):\n",
    "            if day > 29:\n",
    "                return False\n",
    "        else:\n",
    "            if day > 28:\n",
    "                return False\n",
    "   \n",
    "    return True\n",
    "\n",
    "def date_difference(date1, date2):\n",
    "    # Assuming date1 and date2 are tuples (day, month, year)\n",
    "    if not (is_valid_date(*date1) and is_valid_date(*date2)):\n",
    "        return \"Invalid date(s)\"\n",
    "   \n",
    "    d1 = date(date1[2], date1[1], date1[0])\n",
    "    d2 = date(date2[2], date2[1], date2[0])\n",
    "   \n",
    "    return abs((d2 - d1).days)\n",
    "\n",
    "# Example usage\n",
    "date1 = (26, 6, 2023)\n",
    "date2 = (26, 6, 2024)\n",
    "print(f\"Date 1: {date1}\")\n",
    "print(f\"Date 2: {date2}\")\n",
    "print(f\"Difference: {date_difference(date1, date2)} days\")\n",
    "\n",
    "# Additional test cases\n",
    "test_dates = [\n",
    "    ((29, 2, 2024), \"Leap year date\"),\n",
    "    ((29, 2, 2023), \"Non-leap year date\"),\n",
    "    ((31, 4, 2023), \"Invalid day in April\"),\n",
    "    ((15, 13, 2023), \"Invalid month\"),\n",
    "    ((0, 5, 2023), \"Invalid day zero\"),\n",
    "    ((15, 5, -1), \"Invalid negative year\")\n",
    "]\n",
    "\n",
    "for test_date, description in test_dates:\n",
    "    print(f\"Testing {description} ({test_date}): {is_valid_date(*test_date)}\")"
   ]
  }
 ],
 "metadata": {
  "kernelspec": {
   "display_name": "Python 3",
   "language": "python",
   "name": "python3"
  },
  "language_info": {
   "codemirror_mode": {
    "name": "ipython",
    "version": 3
   },
   "file_extension": ".py",
   "mimetype": "text/x-python",
   "name": "python",
   "nbconvert_exporter": "python",
   "pygments_lexer": "ipython3",
   "version": "3.12.2"
  }
 },
 "nbformat": 4,
 "nbformat_minor": 2
}
