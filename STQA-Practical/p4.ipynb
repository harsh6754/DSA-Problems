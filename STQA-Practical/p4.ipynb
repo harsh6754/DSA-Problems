{
 "cells": [
  {
   "cell_type": "code",
   "execution_count": 1,
   "metadata": {},
   "outputs": [
    {
     "name": "stdout",
     "output_type": "stream",
     "text": [
      "Test Case 1 PASSED\n",
      "Test Case 2 PASSED\n",
      "Test Case 3 PASSED\n",
      "Test Case 4 PASSED\n",
      "Test Case 5 PASSED\n",
      "Test Case 6 PASSED\n",
      "Test Case 7 PASSED\n",
      "Test Case 8 PASSED\n"
     ]
    }
   ],
   "source": [
    "# Step 1: Define the decision table\n",
    "decision_table = [\n",
    "    {\"credit_score\": \"Good\", \"income_level\": \"High\", \"collateral\": \"Yes\", \"expected_result\": \"Approve loan\"},\n",
    "    {\"credit_score\": \"Good\", \"income_level\": \"High\", \"collateral\": \"No\", \"expected_result\": \"Approve loan\"},\n",
    "    {\"credit_score\": \"Good\", \"income_level\": \"Low\", \"collateral\": \"Yes\", \"expected_result\": \"Approve loan\"},\n",
    "    {\"credit_score\": \"Good\", \"income_level\": \"Low\", \"collateral\": \"No\", \"expected_result\": \"Deny loan\"},\n",
    "    {\"credit_score\": \"Bad\", \"income_level\": \"High\", \"collateral\": \"Yes\", \"expected_result\": \"Approve loan\"},\n",
    "    {\"credit_score\": \"Bad\", \"income_level\": \"High\", \"collateral\": \"No\", \"expected_result\": \"Deny loan\"},\n",
    "    {\"credit_score\": \"Bad\", \"income_level\": \"Low\", \"collateral\": \"Yes\", \"expected_result\": \"Deny loan\"},\n",
    "    {\"credit_score\": \"Bad\", \"income_level\": \"Low\", \"collateral\": \"No\", \"expected_result\": \"Deny loan\"},\n",
    "]\n",
    "\n",
    "# Step 2: Define a function that simulates the loan approval process\n",
    "def loan_approval_system(credit_score, income_level, collateral):\n",
    "    if credit_score == \"Good\" and (income_level == \"High\" or collateral == \"Yes\"):\n",
    "        return \"Approve loan\"\n",
    "    elif credit_score == \"Bad\" and income_level == \"High\" and collateral == \"Yes\":\n",
    "        return \"Approve loan\"\n",
    "    else:\n",
    "        return \"Deny loan\"\n",
    "\n",
    "# Step 3: Generate and execute test cases\n",
    "def run_test_cases(decision_table):\n",
    "    for i, test_case in enumerate(decision_table):\n",
    "        credit_score = test_case[\"credit_score\"]\n",
    "        income_level = test_case[\"income_level\"]\n",
    "        collateral = test_case[\"collateral\"]\n",
    "        expected_result = test_case[\"expected_result\"]\n",
    "        \n",
    "        # Get the actual result from the loan approval system\n",
    "        actual_result = loan_approval_system(credit_score, income_level, collateral)\n",
    "        \n",
    "        # Check if the actual result matches the expected result\n",
    "        if actual_result == expected_result:\n",
    "            print(f\"Test Case {i+1} PASSED\")\n",
    "        else:\n",
    "            print(f\"Test Case {i+1} FAILED: expected {expected_result} but got {actual_result}\")\n",
    "\n",
    "# Run the test cases\n",
    "run_test_cases(decision_table)"
   ]
  }
 ],
 "metadata": {
  "kernelspec": {
   "display_name": "Python 3",
   "language": "python",
   "name": "python3"
  },
  "language_info": {
   "codemirror_mode": {
    "name": "ipython",
    "version": 3
   },
   "file_extension": ".py",
   "mimetype": "text/x-python",
   "name": "python",
   "nbconvert_exporter": "python",
   "pygments_lexer": "ipython3",
   "version": "3.12.2"
  }
 },
 "nbformat": 4,
 "nbformat_minor": 2
}
