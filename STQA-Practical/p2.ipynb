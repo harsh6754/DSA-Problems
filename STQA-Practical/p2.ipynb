{
 "cells": [
  {
   "cell_type": "code",
   "execution_count": 5,
   "metadata": {},
   "outputs": [
    {
     "name": "stdout",
     "output_type": "stream",
     "text": [
      "Test case 1 passed: age=30, expected=Valid, got=Valid\n",
      "Test case 2 passed: age=17, expected=Invalid, got=Invalid\n",
      "Test case 3 passed: age=10, expected=Invalid, got=Invalid\n",
      "Test case 4 passed: age=61, expected=Invalid, got=Invalid\n",
      "Test case 5 passed: age=70, expected=Invalid, got=Invalid\n",
      "All test cases passed!\n"
     ]
    }
   ],
   "source": [
    "def is_valid_age(age):\n",
    "    if 18 <= age <= 60:\n",
    "        return \"Valid\"\n",
    "    else:\n",
    "        return \"Invalid\"\n",
    "\n",
    "# Define test cases using Equivalence Class Partitioning\n",
    "test_cases = [\n",
    "    (30, \"Valid\"),  # Valid range middle value\n",
    "    (17, \"Invalid\"),  # Just below the valid range\n",
    "    (10, \"Invalid\"),  # Well below the valid range\n",
    "    (61, \"Invalid\"),  # Just above the valid range\n",
    "    (70, \"Invalid\"),  # Well above the valid range\n",
    "]\n",
    "\n",
    "# Run test cases\n",
    "for i, (age, expected) in enumerate(test_cases):\n",
    "    result = is_valid_age(age)\n",
    "    assert result == expected, f\"Test case {i+1} failed: age={age}, expected={expected}, got={result}\"\n",
    "    print(f\"Test case {i+1} passed: age={age}, expected={expected}, got={result}\")\n",
    "\n",
    "print(\"All test cases passed!\")\n"
   ]
  }
 ],
 "metadata": {
  "kernelspec": {
   "display_name": "Python 3",
   "language": "python",
   "name": "python3"
  },
  "language_info": {
   "codemirror_mode": {
    "name": "ipython",
    "version": 3
   },
   "file_extension": ".py",
   "mimetype": "text/x-python",
   "name": "python",
   "nbconvert_exporter": "python",
   "pygments_lexer": "ipython3",
   "version": "3.12.2"
  }
 },
 "nbformat": 4,
 "nbformat_minor": 2
}
