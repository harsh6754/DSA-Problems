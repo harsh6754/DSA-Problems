{
 "cells": [
  {
   "cell_type": "code",
   "execution_count": 1,
   "metadata": {},
   "outputs": [
    {
     "name": "stdout",
     "output_type": "stream",
     "text": [
      "206\n"
     ]
    }
   ],
   "source": [
    "\n",
    "def sq_sum(lst, idx = 0, sum = 0):\n",
    "    if idx >= len(lst):\n",
    "        return sum\n",
    "    if lst[idx] < 0:\n",
    "        return sq_sum(lst, idx + 1, sum)\n",
    "    sum += lst[idx] ** 2\n",
    "    return sq_sum(lst, idx + 1, sum)\n",
    "\n",
    "lst = [3, -1, 1, 14]\n",
    "print(sq_sum(lst))"
   ]
  },
  {
   "cell_type": "code",
   "execution_count": null,
   "metadata": {},
   "outputs": [],
   "source": [
    "def sq_sum():\n",
    "    lst = []\n",
    "    num = int(input(\"Enter an integer (or 0 to end): \"))\n",
    "    while num != 0:\n",
    "        if num >= 0:\n",
    "            lst.append(num)\n",
    "        else:\n",
    "            print(\"Please enter only non-negative integers.\")\n",
    "        num = int(input(\"Enter an integer (or 0 to end): \"))\n",
    "\n",
    "    if not lst:\n",
    "        print(\"No non-negative integers were entered.\")\n",
    "        return\n",
    "\n",
    "    sum_of_squares = 0\n",
    "    for num in lst:\n",
    "        sum_of_squares += num ** 2\n",
    "\n",
    "    return sum_of_squares\n",
    "\n",
    "if __name__ == \"__main__\":\n",
    "    sum_of_squares = sq_sum()\n",
    "    print(\"The sum of squares of the non-negative integers you entered is:\", sum_of_squares)\n",
    "\n"
   ]
  }
 ],
 "metadata": {
  "kernelspec": {
   "display_name": "Python 3",
   "language": "python",
   "name": "python3"
  },
  "language_info": {
   "codemirror_mode": {
    "name": "ipython",
    "version": 3
   },
   "file_extension": ".py",
   "mimetype": "text/x-python",
   "name": "python",
   "nbconvert_exporter": "python",
   "pygments_lexer": "ipython3",
   "version": "3.12.2"
  }
 },
 "nbformat": 4,
 "nbformat_minor": 2
}
