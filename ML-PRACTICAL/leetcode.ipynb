{
 "cells": [
  {
   "cell_type": "code",
   "execution_count": 5,
   "metadata": {},
   "outputs": [
    {
     "ename": "AttributeError",
     "evalue": "module 'PIL.Image' has no attribute 'ANTIALIAS'",
     "output_type": "error",
     "traceback": [
      "\u001b[1;31m---------------------------------------------------------------------------\u001b[0m",
      "\u001b[1;31mAttributeError\u001b[0m                            Traceback (most recent call last)",
      "Cell \u001b[1;32mIn[5], line 15\u001b[0m\n\u001b[0;32m     12\u001b[0m image \u001b[38;5;241m=\u001b[39m Image\u001b[38;5;241m.\u001b[39mnew(\u001b[38;5;124m'\u001b[39m\u001b[38;5;124mRGB\u001b[39m\u001b[38;5;124m'\u001b[39m, (img_width, img_height), color \u001b[38;5;241m=\u001b[39m (\u001b[38;5;241m255\u001b[39m, \u001b[38;5;241m255\u001b[39m, \u001b[38;5;241m255\u001b[39m))\n\u001b[0;32m     14\u001b[0m \u001b[38;5;66;03m# Paste the logo onto the new image\u001b[39;00m\n\u001b[1;32m---> 15\u001b[0m logo_img \u001b[38;5;241m=\u001b[39m logo_img\u001b[38;5;241m.\u001b[39mresize((\u001b[38;5;241m400\u001b[39m, \u001b[38;5;241m400\u001b[39m), \u001b[43mImage\u001b[49m\u001b[38;5;241;43m.\u001b[39;49m\u001b[43mANTIALIAS\u001b[49m)\n\u001b[0;32m     16\u001b[0m image\u001b[38;5;241m.\u001b[39mpaste(logo_img, (\u001b[38;5;241m400\u001b[39m, \u001b[38;5;241m100\u001b[39m), logo_img)\n\u001b[0;32m     18\u001b[0m \u001b[38;5;66;03m# Draw text onto the image\u001b[39;00m\n",
      "\u001b[1;31mAttributeError\u001b[0m: module 'PIL.Image' has no attribute 'ANTIALIAS'"
     ]
    }
   ],
   "source": [
    "from PIL import Image, ImageDraw, ImageFont\n",
    "import requests\n",
    "from io import BytesIO\n",
    "\n",
    "# Load the LeetCode logo\n",
    "logo_url = 'https://upload.wikimedia.org/wikipedia/commons/1/19/LeetCode_logo_black.png'\n",
    "response = requests.get(logo_url)\n",
    "logo_img = Image.open(BytesIO(response.content))\n",
    "\n",
    "# Create a new image with white background\n",
    "img_width, img_height = 1200, 800\n",
    "image = Image.new('RGB', (img_width, img_height), color = (255, 255, 255))\n",
    "\n",
    "# Paste the logo onto the new image\n",
    "logo_img = logo_img.resize((400, 400), Image.ANTIALIAS)\n",
    "image.paste(logo_img, (400, 100), logo_img)\n",
    "\n",
    "# Draw text onto the image\n",
    "draw = ImageDraw.Draw(image)\n",
    "font = ImageFont.truetype(\"/usr/share/fonts/truetype/dejavu/DejaVuSans-Bold.ttf\", 50)\n",
    "text = \"500+ DSA Problems Solved on LeetCode!\\nAchievement Unlocked!\"\n",
    "text_width, text_height = draw.textsize(text, font=font)\n",
    "draw.text(((img_width - text_width) / 2, 550), text, fill=\"black\", font=font)\n",
    "\n",
    "# Save the image\n",
    "file_path = 'LeetCode_logo_black.png'\n",
    "image.save(file_path)\n",
    "\n",
    "file_path\n"
   ]
  }
 ],
 "metadata": {
  "kernelspec": {
   "display_name": "Python 3",
   "language": "python",
   "name": "python3"
  },
  "language_info": {
   "codemirror_mode": {
    "name": "ipython",
    "version": 3
   },
   "file_extension": ".py",
   "mimetype": "text/x-python",
   "name": "python",
   "nbconvert_exporter": "python",
   "pygments_lexer": "ipython3",
   "version": "3.12.2"
  }
 },
 "nbformat": 4,
 "nbformat_minor": 2
}
